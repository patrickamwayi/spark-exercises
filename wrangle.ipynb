{
 "cells": [
  {
   "cell_type": "code",
   "execution_count": 1,
   "id": "39a30691",
   "metadata": {},
   "outputs": [
    {
     "name": "stderr",
     "output_type": "stream",
     "text": [
      "Setting default log level to \"WARN\".\n",
      "To adjust logging level use sc.setLogLevel(newLevel). For SparkR, use setLogLevel(newLevel).\n"
     ]
    },
    {
     "name": "stdout",
     "output_type": "stream",
     "text": [
      "22/10/24 15:28:36 WARN NativeCodeLoader: Unable to load native-hadoop library for your platform... using builtin-java classes where applicable\n",
      "22/10/24 15:28:37 WARN Utils: Service 'SparkUI' could not bind on port 4040. Attempting port 4041.\n"
     ]
    }
   ],
   "source": [
    "import numpy as np\n",
    "import pandas as pd\n",
    "import pyspark\n",
    "import pyspark.sql.functions as F\n",
    "import pydataset\n",
    "from pydataset import data\n",
    "spark = pyspark.sql.SparkSession.builder.getOrCreate()\n",
    "from pyspark.sql import SparkSession\n",
    "from pyspark.sql.functions import * \n",
    "\n",
    "import env "
   ]
  },
  {
   "cell_type": "markdown",
   "id": "2479d280",
   "metadata": {},
   "source": [
    "## Exercises\n",
    "### Data Acquisition\n",
    "### These exercises should go in a notebook or script named wrangle. Add, commit, and push your changes.\n",
    "\n",
    "### This exercises use the cases, dept, and source tables from the 311_data on the Codeup MySQL server.\n",
    "## PART I.\n",
    "### 1. Read the case, department, and source data into their own spark dataframes."
   ]
  },
  {
   "cell_type": "code",
   "execution_count": 2,
   "id": "30009ec5",
   "metadata": {},
   "outputs": [],
   "source": [
    "from env import host, username, password\n",
    "\n",
    "def get_db_url(database, host=host, user=username, password=password):\n",
    "    return f'mysql+pymysql://{user}:{password}@{host}/{database}'\n"
   ]
  },
  {
   "cell_type": "code",
   "execution_count": 3,
   "id": "cd1ecf7e",
   "metadata": {},
   "outputs": [
    {
     "name": "stdout",
     "output_type": "stream",
     "text": [
      "22/10/24 15:31:59 WARN TaskSetManager: Stage 0 contains a task of very large size (18865 KiB). The maximum recommended task size is 1000 KiB.\n"
     ]
    },
    {
     "name": "stderr",
     "output_type": "stream",
     "text": [
      "\r",
      "[Stage 0:>                                                          (0 + 1) / 1]\r"
     ]
    },
    {
     "name": "stdout",
     "output_type": "stream",
     "text": [
      "22/10/24 15:32:03 WARN PythonRunner: Detected deadlock while completing task 0.0 in stage 0 (TID 0): Attempting to kill Python Worker\n",
      "+----------+----------------+----------------+------------+---------+-------------+-----------+----------------+--------------------+-----------+-----------+---------+--------------------+----------------+\n",
      "|   case_id|case_opened_date|case_closed_date|SLA_due_date|case_late|num_days_late|case_closed|   dept_division|service_request_type|   SLA_days|case_status|source_id|     request_address|council_district|\n",
      "+----------+----------------+----------------+------------+---------+-------------+-----------+----------------+--------------------+-----------+-----------+---------+--------------------+----------------+\n",
      "|1014127332|     1/1/18 0:42|    1/1/18 12:29|9/26/20 0:42|       NO| -998.5087616|        YES|Field Operations|        Stray Animal|      999.0|     Closed| svcCRMLS|2315  EL PASO ST,...|               5|\n",
      "|1014127333|     1/1/18 0:46|     1/3/18 8:11| 1/5/18 8:30|       NO| -2.012604167|        YES|     Storm Water|Removal Of Obstru...|4.322222222|     Closed| svcCRMSS|2215  GOLIAD RD, ...|               3|\n",
      "|1014127334|     1/1/18 0:48|     1/2/18 7:57| 1/5/18 8:30|       NO| -3.022337963|        YES|     Storm Water|Removal Of Obstru...|4.320729167|     Closed| svcCRMSS|102  PALFREY ST W...|               3|\n",
      "|1014127335|     1/1/18 1:29|     1/2/18 8:13|1/17/18 8:30|       NO| -15.01148148|        YES|Code Enforcement|Front Or Side Yar...|16.29188657|     Closed| svcCRMSS|114  LA GARDE ST,...|               3|\n",
      "+----------+----------------+----------------+------------+---------+-------------+-----------+----------------+--------------------+-----------+-----------+---------+--------------------+----------------+\n",
      "only showing top 4 rows\n",
      "\n"
     ]
    },
    {
     "name": "stderr",
     "output_type": "stream",
     "text": [
      "\r",
      "                                                                                \r"
     ]
    }
   ],
   "source": [
    "#reading case data into spark dataframe\n",
    "query = \"\"\"SELECT * FROM cases\"\"\"\n",
    "url = get_db_url(\"311_data\")\n",
    "case = pd.read_sql(query, url)\n",
    "case = spark.createDataFrame(case)\n",
    "case.show(4)"
   ]
  },
  {
   "cell_type": "code",
   "execution_count": 4,
   "id": "30fe6c5b",
   "metadata": {},
   "outputs": [
    {
     "name": "stdout",
     "output_type": "stream",
     "text": [
      "+--------------------+--------------------+----------------------+-------------------+\n",
      "|       dept_division|           dept_name|standardized_dept_name|dept_subject_to_SLA|\n",
      "+--------------------+--------------------+----------------------+-------------------+\n",
      "|     311 Call Center|    Customer Service|      Customer Service|                YES|\n",
      "|               Brush|Solid Waste Manag...|           Solid Waste|                YES|\n",
      "|     Clean and Green|Parks and Recreation|    Parks & Recreation|                YES|\n",
      "|Clean and Green N...|Parks and Recreation|    Parks & Recreation|                YES|\n",
      "+--------------------+--------------------+----------------------+-------------------+\n",
      "only showing top 4 rows\n",
      "\n"
     ]
    }
   ],
   "source": [
    "#reading dept data into spark dataframe\n",
    "query = \"\"\"SELECT * FROM dept\"\"\"\n",
    "dept = pd.read_sql(query, url)\n",
    "dept = spark.createDataFrame(dept)\n",
    "dept.show(4)\n"
   ]
  },
  {
   "cell_type": "code",
   "execution_count": 5,
   "id": "44086f46",
   "metadata": {},
   "outputs": [
    {
     "name": "stdout",
     "output_type": "stream",
     "text": [
      "+-----+---------+----------------+\n",
      "|index|source_id| source_username|\n",
      "+-----+---------+----------------+\n",
      "|    0|   100137|Merlene Blodgett|\n",
      "|    1|   103582|     Carmen Cura|\n",
      "|    2|   106463| Richard Sanchez|\n",
      "|    3|   119403|  Betty De Hoyos|\n",
      "+-----+---------+----------------+\n",
      "only showing top 4 rows\n",
      "\n"
     ]
    }
   ],
   "source": [
    "#reading source data into spark dataframe\n",
    "query = \"\"\"SELECT * FROM source\"\"\"\n",
    "url = get_db_url(\"311_data\")\n",
    "source_df = pd.read_sql(query, url)\n",
    "source_df = spark.createDataFrame(source_df)\n",
    "source_df.show(4)"
   ]
  },
  {
   "cell_type": "markdown",
   "id": "98cd2cfe",
   "metadata": {},
   "source": [
    "### 2. Let's see how writing to the local disk works in spark:\n",
    "a) Write the code necessary to store the source data in both csv and json format, store these as sources_csv and sources_json.\n",
    "\n",
    "b) Inspect your folder structure. What do you notice?"
   ]
  },
  {
   "cell_type": "code",
   "execution_count": 6,
   "id": "02906d9e",
   "metadata": {},
   "outputs": [
    {
     "name": "stderr",
     "output_type": "stream",
     "text": [
      "                                                                                \r"
     ]
    }
   ],
   "source": [
    "# Writing source dataframe into json and csv formats\n",
    "source_df.write.json('source_json', mode = 'overwrite')\n",
    "source_df.write.csv('source_csv', mode = 'overwrite')"
   ]
  },
  {
   "cell_type": "markdown",
   "id": "ee3fa998",
   "metadata": {},
   "source": [
    "### 3. Inspect the data in your dataframes. Are the data types appropriate? Write the code necessary to cast the values to the appropriate types."
   ]
  },
  {
   "cell_type": "code",
   "execution_count": 7,
   "id": "dd2e435e",
   "metadata": {},
   "outputs": [
    {
     "name": "stdout",
     "output_type": "stream",
     "text": [
      "22/10/24 15:32:08 WARN TaskSetManager: Stage 6 contains a task of very large size (18865 KiB). The maximum recommended task size is 1000 KiB.\n"
     ]
    },
    {
     "name": "stderr",
     "output_type": "stream",
     "text": [
      "\r",
      "[Stage 6:>                                                          (0 + 1) / 1]\r"
     ]
    },
    {
     "name": "stdout",
     "output_type": "stream",
     "text": [
      "22/10/24 15:32:13 WARN PythonRunner: Detected deadlock while completing task 0.0 in stage 6 (TID 20): Attempting to kill Python Worker\n",
      "-RECORD 0----------------------------------------------------\n",
      " case_id              | 1014127332                           \n",
      " case_opened_date     | 1/1/18 0:42                          \n",
      " case_closed_date     | 1/1/18 12:29                         \n",
      " SLA_due_date         | 9/26/20 0:42                         \n",
      " case_late            | NO                                   \n",
      " num_days_late        | -998.5087616                         \n",
      " case_closed          | YES                                  \n",
      " dept_division        | Field Operations                     \n",
      " service_request_type | Stray Animal                         \n",
      " SLA_days             | 999.0                                \n",
      " case_status          | Closed                               \n",
      " source_id            | svcCRMLS                             \n",
      " request_address      | 2315  EL PASO ST, San Antonio, 78207 \n",
      " council_district     | 5                                    \n",
      "only showing top 1 row\n",
      "\n"
     ]
    },
    {
     "name": "stderr",
     "output_type": "stream",
     "text": [
      "\r",
      "                                                                                \r"
     ]
    }
   ],
   "source": [
    "#inspecting data in my dataframes\n",
    "case.show(1, vertical = True, truncate = False)"
   ]
  },
  {
   "cell_type": "code",
   "execution_count": 8,
   "id": "edfb1278",
   "metadata": {},
   "outputs": [
    {
     "name": "stdout",
     "output_type": "stream",
     "text": [
      "root\n",
      " |-- case_id: long (nullable = true)\n",
      " |-- case_opened_date: string (nullable = true)\n",
      " |-- case_closed_date: string (nullable = true)\n",
      " |-- SLA_due_date: string (nullable = true)\n",
      " |-- case_late: string (nullable = true)\n",
      " |-- num_days_late: double (nullable = true)\n",
      " |-- case_closed: string (nullable = true)\n",
      " |-- dept_division: string (nullable = true)\n",
      " |-- service_request_type: string (nullable = true)\n",
      " |-- SLA_days: double (nullable = true)\n",
      " |-- case_status: string (nullable = true)\n",
      " |-- source_id: string (nullable = true)\n",
      " |-- request_address: string (nullable = true)\n",
      " |-- council_district: long (nullable = true)\n",
      "\n"
     ]
    }
   ],
   "source": [
    "# check the case dataframe\n",
    "case.printSchema()"
   ]
  },
  {
   "cell_type": "code",
   "execution_count": 9,
   "id": "f8c52664",
   "metadata": {},
   "outputs": [],
   "source": [
    "#create case_opened_date column\n",
    "fmt = \"M/d/yy H:mm\"\n",
    "case = (\n",
    "    case.withColumn(\"case_opened_date\", F.to_timestamp(\"case_opened_date\", fmt))\n",
    "    .withColumn(\"case_closed_date\", F.to_timestamp(\"case_closed_date\", fmt))\n",
    "    .withColumn(\"SLA_due_date\", F.to_timestamp(\"SLA_due_date\", fmt))\n",
    ")\n",
    "\n",
    "case = (\n",
    "    case.withColumn(\"case_closed\", F.expr('case_closed == \"YES\"'))\n",
    "    .withColumn(\"case_late\", F.expr('case_late == \"YES\"'))\n",
    ")"
   ]
  },
  {
   "cell_type": "code",
   "execution_count": 10,
   "id": "ac20f72d",
   "metadata": {},
   "outputs": [
    {
     "name": "stdout",
     "output_type": "stream",
     "text": [
      "-RECORD 0----------------------------------\n",
      " dept_division          | 311 Call Center  \n",
      " dept_name              | Customer Service \n",
      " standardized_dept_name | Customer Service \n",
      " dept_subject_to_SLA    | YES              \n",
      "only showing top 1 row\n",
      "\n"
     ]
    }
   ],
   "source": [
    "dept.show(1, vertical = True, truncate = False)"
   ]
  },
  {
   "cell_type": "code",
   "execution_count": 11,
   "id": "00af1ca1",
   "metadata": {},
   "outputs": [
    {
     "name": "stdout",
     "output_type": "stream",
     "text": [
      "root\n",
      " |-- dept_division: string (nullable = true)\n",
      " |-- dept_name: string (nullable = true)\n",
      " |-- standardized_dept_name: string (nullable = true)\n",
      " |-- dept_subject_to_SLA: string (nullable = true)\n",
      "\n"
     ]
    }
   ],
   "source": [
    "# check the department dataframe\n",
    "dept.printSchema()"
   ]
  },
  {
   "cell_type": "code",
   "execution_count": 12,
   "id": "b726b12b",
   "metadata": {},
   "outputs": [
    {
     "name": "stderr",
     "output_type": "stream",
     "text": [
      "\r",
      "[Stage 8:>                                                          (0 + 8) / 8]\r"
     ]
    },
    {
     "name": "stdout",
     "output_type": "stream",
     "text": [
      "+-------------------+\n",
      "|dept_subject_to_SLA|\n",
      "+-------------------+\n",
      "|                YES|\n",
      "|                 NO|\n",
      "+-------------------+\n",
      "\n"
     ]
    },
    {
     "name": "stderr",
     "output_type": "stream",
     "text": [
      "\r",
      "                                                                                \r"
     ]
    }
   ],
   "source": [
    "#dept_subject_to_SLA column looks like a boolean type.\n",
    "dept.select('dept_subject_to_SLA').distinct().show()"
   ]
  },
  {
   "cell_type": "markdown",
   "id": "8bbbe92c",
   "metadata": {},
   "source": [
    "## PART II.\n",
    "### 1. How old is the latest (in terms of days past SLA) currently open issue? How long has the oldest (in terms of days since opened) currently opened issue been open?"
   ]
  },
  {
   "cell_type": "code",
   "execution_count": 13,
   "id": "64545c14",
   "metadata": {},
   "outputs": [],
   "source": [
    "# Let's open the case with SQL\n",
    "case.createOrReplaceTempView('case')"
   ]
  },
  {
   "cell_type": "code",
   "execution_count": 14,
   "id": "8ec15798",
   "metadata": {},
   "outputs": [
    {
     "name": "stdout",
     "output_type": "stream",
     "text": [
      "22/10/24 15:32:15 WARN TaskSetManager: Stage 11 contains a task of very large size (18865 KiB). The maximum recommended task size is 1000 KiB.\n"
     ]
    },
    {
     "name": "stderr",
     "output_type": "stream",
     "text": [
      "\r",
      "[Stage 11:>                                                         (0 + 8) / 8]\r"
     ]
    },
    {
     "name": "stdout",
     "output_type": "stream",
     "text": [
      "-RECORD 0--------------------\n",
      " num_days_late | 348.6458333 \n",
      "\n"
     ]
    },
    {
     "name": "stderr",
     "output_type": "stream",
     "text": [
      "\r",
      "                                                                                \r"
     ]
    }
   ],
   "source": [
    "#using sql querry to check how old the latest (in terms of days past SLA) currently open issue\n",
    "spark.sql('''\n",
    "SELECT\n",
    "    num_days_late\n",
    "FROM case\n",
    "WHERE case_closed = false\n",
    "    AND case_late = true\n",
    "ORDER BY num_days_late DESC\n",
    "LIMIT 1;\n",
    "''').show(vertical = True, truncate = False)"
   ]
  },
  {
   "cell_type": "code",
   "execution_count": 15,
   "id": "d253dd12",
   "metadata": {},
   "outputs": [
    {
     "name": "stdout",
     "output_type": "stream",
     "text": [
      "22/10/24 15:32:19 WARN TaskSetManager: Stage 13 contains a task of very large size (18865 KiB). The maximum recommended task size is 1000 KiB.\n"
     ]
    },
    {
     "name": "stderr",
     "output_type": "stream",
     "text": [
      "\r",
      "[Stage 13:>                                                         (0 + 8) / 8]\r"
     ]
    },
    {
     "name": "stdout",
     "output_type": "stream",
     "text": [
      "-RECORD 0---------\n",
      " days_open | 2122 \n",
      "\n"
     ]
    },
    {
     "name": "stderr",
     "output_type": "stream",
     "text": [
      "\r",
      "                                                                                \r"
     ]
    }
   ],
   "source": [
    "#using sql querry to check how long the oldest (in terms of days since opened) currently opened issue been open\n",
    "spark.sql('''\n",
    "SELECT\n",
    "    DATEDIFF(NOW(), case_opened_date) AS days_open\n",
    "FROM case\n",
    "WHERE case_closed = false\n",
    "ORDER BY days_open DESC\n",
    "LIMIT 1;\n",
    "''').show(vertical = True)"
   ]
  },
  {
   "cell_type": "markdown",
   "id": "4e5f7d98",
   "metadata": {},
   "source": [
    "### 2. How many Stray Animal cases are there?"
   ]
  },
  {
   "cell_type": "code",
   "execution_count": 16,
   "id": "769395d6",
   "metadata": {},
   "outputs": [
    {
     "name": "stdout",
     "output_type": "stream",
     "text": [
      "22/10/24 15:32:22 WARN TaskSetManager: Stage 15 contains a task of very large size (18865 KiB). The maximum recommended task size is 1000 KiB.\n"
     ]
    },
    {
     "name": "stderr",
     "output_type": "stream",
     "text": [
      "\r",
      "[Stage 15:>                                                         (0 + 8) / 8]\r"
     ]
    },
    {
     "name": "stdout",
     "output_type": "stream",
     "text": [
      "-RECORD 0---------\n",
      " count(1) | 26760 \n",
      "\n"
     ]
    },
    {
     "name": "stderr",
     "output_type": "stream",
     "text": [
      "\r",
      "                                                                                \r"
     ]
    }
   ],
   "source": [
    "#using sql querry to check how many stray animal cases are there\n",
    "spark.sql('''\n",
    "SELECT\n",
    "    COUNT(*)\n",
    "FROM case\n",
    "WHERE service_request_type = 'Stray Animal';\n",
    "''').show(vertical = True)"
   ]
  },
  {
   "cell_type": "markdown",
   "id": "392fa92b",
   "metadata": {},
   "source": [
    "### 3. How many service requests that are assigned to the Field Operations department (dept_division) are not classified as \"Officer Standby\" request type (service_request_type)?"
   ]
  },
  {
   "cell_type": "code",
   "execution_count": 17,
   "id": "ed8599cb",
   "metadata": {},
   "outputs": [
    {
     "name": "stdout",
     "output_type": "stream",
     "text": [
      "22/10/24 15:32:24 WARN TaskSetManager: Stage 18 contains a task of very large size (18865 KiB). The maximum recommended task size is 1000 KiB.\n"
     ]
    },
    {
     "name": "stderr",
     "output_type": "stream",
     "text": [
      "\r",
      "[Stage 18:>                                                         (0 + 8) / 8]\r"
     ]
    },
    {
     "name": "stdout",
     "output_type": "stream",
     "text": [
      "-RECORD 0----------\n",
      " count(1) | 113902 \n",
      "\n"
     ]
    },
    {
     "name": "stderr",
     "output_type": "stream",
     "text": [
      "\r",
      "                                                                                \r"
     ]
    }
   ],
   "source": [
    "#using sql querry to check how many service requests are assigned to dept_div\n",
    "spark.sql('''\n",
    "SELECT\n",
    "    COUNT(*)\n",
    "FROM case\n",
    "WHERE dept_division = 'Field Operations'\n",
    "    AND service_request_type != 'Officer Standby';\n",
    "''').show(vertical = True)"
   ]
  },
  {
   "cell_type": "markdown",
   "id": "12ab9bfe",
   "metadata": {},
   "source": [
    "### 4. Convert the council_district column to a string column."
   ]
  },
  {
   "cell_type": "code",
   "execution_count": 18,
   "id": "887cd198",
   "metadata": {},
   "outputs": [
    {
     "name": "stdout",
     "output_type": "stream",
     "text": [
      "root\n",
      " |-- case_id: long (nullable = true)\n",
      " |-- case_opened_date: timestamp (nullable = true)\n",
      " |-- case_closed_date: timestamp (nullable = true)\n",
      " |-- SLA_due_date: timestamp (nullable = true)\n",
      " |-- case_late: boolean (nullable = true)\n",
      " |-- num_days_late: double (nullable = true)\n",
      " |-- case_closed: boolean (nullable = true)\n",
      " |-- dept_division: string (nullable = true)\n",
      " |-- service_request_type: string (nullable = true)\n",
      " |-- SLA_days: double (nullable = true)\n",
      " |-- case_status: string (nullable = true)\n",
      " |-- source_id: string (nullable = true)\n",
      " |-- request_address: string (nullable = true)\n",
      " |-- council_district: string (nullable = true)\n",
      "\n"
     ]
    }
   ],
   "source": [
    "#converting council_district column to a string\n",
    "case = case.withColumn('council_district', F.col('council_district').cast('string'))\n",
    "case.printSchema()"
   ]
  },
  {
   "cell_type": "markdown",
   "id": "c3a9b07f",
   "metadata": {},
   "source": [
    "### 5. Extract the year from the case_closed_date column."
   ]
  },
  {
   "cell_type": "code",
   "execution_count": 19,
   "id": "aaceca6e",
   "metadata": {},
   "outputs": [
    {
     "name": "stdout",
     "output_type": "stream",
     "text": [
      "22/10/24 15:32:26 WARN TaskSetManager: Stage 21 contains a task of very large size (18865 KiB). The maximum recommended task size is 1000 KiB.\n"
     ]
    },
    {
     "name": "stderr",
     "output_type": "stream",
     "text": [
      "\r",
      "[Stage 21:>                                                         (0 + 1) / 1]\r"
     ]
    },
    {
     "name": "stdout",
     "output_type": "stream",
     "text": [
      "22/10/24 15:32:30 WARN PythonRunner: Detected deadlock while completing task 0.0 in stage 21 (TID 67): Attempting to kill Python Worker\n",
      "+----------------------+\n",
      "|year(case_closed_date)|\n",
      "+----------------------+\n",
      "|                  2018|\n",
      "|                  2018|\n",
      "|                  2018|\n",
      "|                  2018|\n",
      "|                  2018|\n",
      "+----------------------+\n",
      "only showing top 5 rows\n",
      "\n"
     ]
    },
    {
     "name": "stderr",
     "output_type": "stream",
     "text": [
      "\r",
      "                                                                                \r"
     ]
    }
   ],
   "source": [
    "#extract year from case closed date column\n",
    "case.select(F.year('case_closed_date')).show(5)"
   ]
  },
  {
   "cell_type": "markdown",
   "id": "4616b163",
   "metadata": {},
   "source": [
    "### 6. Convert num_days_late from days to hours in new columns num_hours_late."
   ]
  },
  {
   "cell_type": "code",
   "execution_count": 20,
   "id": "1313f3be",
   "metadata": {},
   "outputs": [
    {
     "name": "stdout",
     "output_type": "stream",
     "text": [
      "22/10/24 15:32:30 WARN TaskSetManager: Stage 22 contains a task of very large size (18865 KiB). The maximum recommended task size is 1000 KiB.\n"
     ]
    },
    {
     "name": "stderr",
     "output_type": "stream",
     "text": [
      "\r",
      "[Stage 22:>                                                         (0 + 1) / 1]\r"
     ]
    },
    {
     "name": "stdout",
     "output_type": "stream",
     "text": [
      "22/10/24 15:32:34 WARN PythonRunner: Detected deadlock while completing task 0.0 in stage 22 (TID 68): Attempting to kill Python Worker\n",
      "-RECORD 0------------------------------------\n",
      " case_id              | 1014127332           \n",
      " case_opened_date     | 2018-01-01 00:42:00  \n",
      " case_closed_date     | 2018-01-01 12:29:00  \n",
      " SLA_due_date         | 2020-09-26 00:42:00  \n",
      " case_late            | false                \n",
      " num_days_late        | -998.5087616         \n",
      " case_closed          | true                 \n",
      " dept_division        | Field Operations     \n",
      " service_request_type | Stray Animal         \n",
      " SLA_days             | 999.0                \n",
      " case_status          | Closed               \n",
      " source_id            | svcCRMLS             \n",
      " request_address      | 2315  EL PASO ST,... \n",
      " council_district     | 5                    \n",
      " num_hours_late       | -23964.210278399998  \n",
      "only showing top 1 row\n",
      "\n"
     ]
    },
    {
     "name": "stderr",
     "output_type": "stream",
     "text": [
      "\r",
      "                                                                                \r"
     ]
    }
   ],
   "source": [
    "#converting num days late from days to hours late\n",
    "case = case.withColumn('num_hours_late', F.expr('num_days_late * 24'))\n",
    "case.show(1, vertical = True)"
   ]
  },
  {
   "cell_type": "code",
   "execution_count": 21,
   "id": "ec36d894",
   "metadata": {},
   "outputs": [
    {
     "name": "stdout",
     "output_type": "stream",
     "text": [
      "22/10/24 15:32:34 WARN TaskSetManager: Stage 23 contains a task of very large size (18865 KiB). The maximum recommended task size is 1000 KiB.\n"
     ]
    },
    {
     "name": "stderr",
     "output_type": "stream",
     "text": [
      "\r",
      "[Stage 23:>                                                         (0 + 1) / 1]\r"
     ]
    },
    {
     "name": "stdout",
     "output_type": "stream",
     "text": [
      "22/10/24 15:32:38 WARN PythonRunner: Detected deadlock while completing task 0.0 in stage 23 (TID 69): Attempting to kill Python Worker\n",
      "+-------------+-------------------+\n",
      "|num_days_late|     num_hours_late|\n",
      "+-------------+-------------------+\n",
      "| -998.5087616|-23964.210278399998|\n",
      "| -2.012604167|      -48.302500008|\n",
      "| -3.022337963|      -72.536111112|\n",
      "| -15.01148148|      -360.27555552|\n",
      "|  0.372164352|        8.931944448|\n",
      "+-------------+-------------------+\n",
      "only showing top 5 rows\n",
      "\n"
     ]
    },
    {
     "name": "stderr",
     "output_type": "stream",
     "text": [
      "\r",
      "                                                                                \r"
     ]
    }
   ],
   "source": [
    "#converting num days late from days to hours late\n",
    "case.select('num_days_late', 'num_hours_late').show(5)"
   ]
  },
  {
   "cell_type": "markdown",
   "id": "3a3f8e0d",
   "metadata": {},
   "source": [
    "### 7. Join the case data with the source and department data."
   ]
  },
  {
   "cell_type": "code",
   "execution_count": 22,
   "id": "fa7b2807",
   "metadata": {},
   "outputs": [
    {
     "name": "stdout",
     "output_type": "stream",
     "text": [
      "root\n",
      " |-- case_id: long (nullable = true)\n",
      " |-- case_opened_date: timestamp (nullable = true)\n",
      " |-- case_closed_date: timestamp (nullable = true)\n",
      " |-- SLA_due_date: timestamp (nullable = true)\n",
      " |-- case_late: boolean (nullable = true)\n",
      " |-- num_days_late: double (nullable = true)\n",
      " |-- case_closed: boolean (nullable = true)\n",
      " |-- dept_division: string (nullable = true)\n",
      " |-- service_request_type: string (nullable = true)\n",
      " |-- SLA_days: double (nullable = true)\n",
      " |-- case_status: string (nullable = true)\n",
      " |-- source_id: string (nullable = true)\n",
      " |-- request_address: string (nullable = true)\n",
      " |-- council_district: string (nullable = true)\n",
      " |-- num_hours_late: double (nullable = true)\n",
      "\n"
     ]
    }
   ],
   "source": [
    "#checking schema for each dataframe before joining them all\n",
    "#case data\n",
    "case.printSchema()"
   ]
  },
  {
   "cell_type": "code",
   "execution_count": 23,
   "id": "69a598b5",
   "metadata": {},
   "outputs": [
    {
     "name": "stdout",
     "output_type": "stream",
     "text": [
      "root\n",
      " |-- dept_division: string (nullable = true)\n",
      " |-- dept_name: string (nullable = true)\n",
      " |-- standardized_dept_name: string (nullable = true)\n",
      " |-- dept_subject_to_SLA: string (nullable = true)\n",
      "\n"
     ]
    }
   ],
   "source": [
    "#dept data \n",
    "dept.printSchema()"
   ]
  },
  {
   "cell_type": "code",
   "execution_count": 24,
   "id": "6a85ec86",
   "metadata": {},
   "outputs": [
    {
     "name": "stdout",
     "output_type": "stream",
     "text": [
      "root\n",
      " |-- index: long (nullable = true)\n",
      " |-- source_id: string (nullable = true)\n",
      " |-- source_username: string (nullable = true)\n",
      "\n"
     ]
    }
   ],
   "source": [
    "#source_df data\n",
    "source_df.printSchema()"
   ]
  },
  {
   "cell_type": "code",
   "execution_count": 25,
   "id": "0bad03f8",
   "metadata": {},
   "outputs": [
    {
     "name": "stdout",
     "output_type": "stream",
     "text": [
      "root\n",
      " |-- source_id: string (nullable = true)\n",
      " |-- dept_division: string (nullable = true)\n",
      " |-- case_id: long (nullable = true)\n",
      " |-- case_opened_date: timestamp (nullable = true)\n",
      " |-- case_closed_date: timestamp (nullable = true)\n",
      " |-- SLA_due_date: timestamp (nullable = true)\n",
      " |-- case_late: boolean (nullable = true)\n",
      " |-- num_days_late: double (nullable = true)\n",
      " |-- case_closed: boolean (nullable = true)\n",
      " |-- service_request_type: string (nullable = true)\n",
      " |-- SLA_days: double (nullable = true)\n",
      " |-- case_status: string (nullable = true)\n",
      " |-- request_address: string (nullable = true)\n",
      " |-- council_district: string (nullable = true)\n",
      " |-- num_hours_late: double (nullable = true)\n",
      " |-- dept_name: string (nullable = true)\n",
      " |-- standardized_dept_name: string (nullable = true)\n",
      " |-- dept_subject_to_SLA: string (nullable = true)\n",
      " |-- index: long (nullable = true)\n",
      " |-- source_username: string (nullable = true)\n",
      "\n"
     ]
    }
   ],
   "source": [
    "#function to join dept dataframe to dept_division and source_df to source_id.\n",
    "df = (\n",
    "    case.join(dept, 'dept_division')\n",
    "    .join(source_df, 'source_id')\n",
    "    .drop(dept.dept_division)\n",
    "    .drop(source_df.source_id)\n",
    ")\n",
    "df.printSchema()"
   ]
  },
  {
   "cell_type": "markdown",
   "id": "fba542d0",
   "metadata": {},
   "source": [
    "### 8. Are there any cases that do not have a request source?"
   ]
  },
  {
   "cell_type": "code",
   "execution_count": 26,
   "id": "72b7efc9",
   "metadata": {},
   "outputs": [
    {
     "name": "stdout",
     "output_type": "stream",
     "text": [
      "22/10/24 15:32:39 WARN TaskSetManager: Stage 24 contains a task of very large size (18865 KiB). The maximum recommended task size is 1000 KiB.\n"
     ]
    },
    {
     "name": "stderr",
     "output_type": "stream",
     "text": [
      "                                                                                \r"
     ]
    },
    {
     "data": {
      "text/plain": [
       "0"
      ]
     },
     "execution_count": 26,
     "metadata": {},
     "output_type": "execute_result"
    }
   ],
   "source": [
    "# we can see there is no case using isnull\n",
    "df.where(df.source_username.isNull()).count()"
   ]
  },
  {
   "cell_type": "markdown",
   "id": "55cbf028",
   "metadata": {},
   "source": [
    "### 9. What are the top 10 service request types in terms of number of requests?"
   ]
  },
  {
   "cell_type": "code",
   "execution_count": 27,
   "id": "ec293edf",
   "metadata": {},
   "outputs": [
    {
     "name": "stdout",
     "output_type": "stream",
     "text": [
      "22/10/24 15:32:42 WARN TaskSetManager: Stage 29 contains a task of very large size (18865 KiB). The maximum recommended task size is 1000 KiB.\n"
     ]
    },
    {
     "name": "stderr",
     "output_type": "stream",
     "text": [
      "\r",
      "[Stage 29:>                                                         (0 + 8) / 8]\r"
     ]
    },
    {
     "name": "stdout",
     "output_type": "stream",
     "text": [
      "+--------------------+------------------+\n",
      "|service_request_type|number_of_requests|\n",
      "+--------------------+------------------+\n",
      "|           No Pickup|             86855|\n",
      "|Overgrown Yard/Trash|             65895|\n",
      "|        Bandit Signs|             32910|\n",
      "|        Damaged Cart|             30338|\n",
      "|Front Or Side Yar...|             28794|\n",
      "|        Stray Animal|             26760|\n",
      "|Aggressive Animal...|             24882|\n",
      "|Cart Exchange Req...|             22024|\n",
      "|Junk Vehicle On P...|             21473|\n",
      "|     Pot Hole Repair|             20616|\n",
      "+--------------------+------------------+\n",
      "\n"
     ]
    },
    {
     "name": "stderr",
     "output_type": "stream",
     "text": [
      "\r",
      "                                                                                \r"
     ]
    }
   ],
   "source": [
    "#sql querry to check top 10 service request types by number request\n",
    "spark.sql('''\n",
    "SELECT\n",
    "    service_request_type,\n",
    "    COUNT(*) AS number_of_requests\n",
    "FROM case\n",
    "GROUP BY service_request_type\n",
    "ORDER BY number_of_requests DESC\n",
    "LIMIT 10;\n",
    "''').show()"
   ]
  },
  {
   "cell_type": "markdown",
   "id": "e7be2c20",
   "metadata": {},
   "source": [
    "### 10. What are the top 10 service request types in terms of average days late?"
   ]
  },
  {
   "cell_type": "code",
   "execution_count": 28,
   "id": "288de378",
   "metadata": {},
   "outputs": [
    {
     "name": "stdout",
     "output_type": "stream",
     "text": [
      "22/10/24 15:32:45 WARN TaskSetManager: Stage 32 contains a task of very large size (18865 KiB). The maximum recommended task size is 1000 KiB.\n"
     ]
    },
    {
     "name": "stderr",
     "output_type": "stream",
     "text": [
      "\r",
      "[Stage 32:>                                                         (0 + 8) / 8]\r"
     ]
    },
    {
     "name": "stdout",
     "output_type": "stream",
     "text": [
      "+--------------------+------------------+\n",
      "|service_request_type|     avg_days_late|\n",
      "+--------------------+------------------+\n",
      "|Request for Resea...|               NaN|\n",
      "|CCO_Request for R...|               NaN|\n",
      "|  Zoning: Junk Yards|175.95636210420952|\n",
      "|Labeling for Used...|162.43032902285717|\n",
      "|Record Keeping of...| 153.9972403942857|\n",
      "|Signage Requied f...|151.63868055333333|\n",
      "|Storage of Used M...|142.11255641500003|\n",
      "|Zoning: Recycle Yard|135.92851612479797|\n",
      "|Donation Containe...|131.75610506358706|\n",
      "|License Requied U...|128.79828704142858|\n",
      "+--------------------+------------------+\n",
      "\n"
     ]
    },
    {
     "name": "stderr",
     "output_type": "stream",
     "text": [
      "\r",
      "                                                                                \r"
     ]
    }
   ],
   "source": [
    "#sql querry to check top 10 service request by average days late\n",
    "spark.sql('''\n",
    "SELECT\n",
    "    service_request_type,\n",
    "    AVG(num_days_late) AS avg_days_late\n",
    "FROM case\n",
    "GROUP BY service_request_type\n",
    "ORDER BY avg_days_late DESC\n",
    "LIMIT 10;\n",
    "''').show()"
   ]
  },
  {
   "cell_type": "markdown",
   "id": "27c4d3f7",
   "metadata": {},
   "source": [
    "### 11. Does number of days late depend on department?"
   ]
  },
  {
   "cell_type": "code",
   "execution_count": 29,
   "id": "057beaf7",
   "metadata": {},
   "outputs": [
    {
     "name": "stdout",
     "output_type": "stream",
     "text": [
      "22/10/24 15:32:47 WARN TaskSetManager: Stage 35 contains a task of very large size (18865 KiB). The maximum recommended task size is 1000 KiB.\n"
     ]
    },
    {
     "name": "stderr",
     "output_type": "stream",
     "text": [
      "[Stage 40:>                                                         (0 + 4) / 4]\r"
     ]
    },
    {
     "name": "stdout",
     "output_type": "stream",
     "text": [
      "+--------------------+-------------------+\n",
      "|           dept_name|      avg_days_late|\n",
      "+--------------------+-------------------+\n",
      "|        City Council|                NaN|\n",
      "|                null| 135.92851612479794|\n",
      "|    Customer Service|  59.73709149630046|\n",
      "|Development Services| 13.433724555869698|\n",
      "|Solid Waste Manag...|-2.2000575136721157|\n",
      "|        Metro Health| -4.911766979607005|\n",
      "|Parks and Recreation| -5.251521960055153|\n",
      "|Trans & Cap Impro...|-20.612837354052697|\n",
      "|Code Enforcement ...| -38.70133068329473|\n",
      "|Animal Care Services| -226.5178394055047|\n",
      "+--------------------+-------------------+\n",
      "\n"
     ]
    },
    {
     "name": "stderr",
     "output_type": "stream",
     "text": [
      "\r",
      "                                                                                \r"
     ]
    }
   ],
   "source": [
    "#function to check if number of days late depend on dept\n",
    "#looks like it depends, others are late while others not\n",
    "(\n",
    "    df.groupBy('dept_name')\n",
    "    .agg(F.mean('num_days_late').alias('avg_days_late'))\n",
    "    .sort('avg_days_late', ascending = False)\n",
    "    .show()\n",
    ")"
   ]
  },
  {
   "cell_type": "markdown",
   "id": "266733ac",
   "metadata": {},
   "source": [
    "### 12. How do number of days late depend on department and request type?"
   ]
  },
  {
   "cell_type": "code",
   "execution_count": 30,
   "id": "8de41dc1",
   "metadata": {},
   "outputs": [
    {
     "name": "stdout",
     "output_type": "stream",
     "text": [
      "22/10/24 15:32:52 WARN TaskSetManager: Stage 52 contains a task of very large size (18865 KiB). The maximum recommended task size is 1000 KiB.\n"
     ]
    },
    {
     "name": "stderr",
     "output_type": "stream",
     "text": [
      "[Stage 59:==============>                                           (1 + 3) / 4]\r"
     ]
    },
    {
     "name": "stdout",
     "output_type": "stream",
     "text": [
      "+--------------------+--------------------+------------------+\n",
      "|           dept_name|service_request_type|     avg_days_late|\n",
      "+--------------------+--------------------+------------------+\n",
      "|        City Council|Request for Resea...|               NaN|\n",
      "|        City Council|CCO_Request for R...|               NaN|\n",
      "|Code Enforcement ...|  Zoning: Junk Yards|175.95636210420932|\n",
      "|Code Enforcement ...|Labeling for Used...|162.43032902285717|\n",
      "|Code Enforcement ...|Record Keeping of...| 153.9972403942857|\n",
      "|Code Enforcement ...|Signage Requied f...|151.63868055333333|\n",
      "|Code Enforcement ...|Storage of Used M...|     142.112556415|\n",
      "|                null|Zoning: Recycle Yard|135.92851612479794|\n",
      "|Code Enforcement ...|Donation Containe...|131.75610506358709|\n",
      "|Code Enforcement ...|License Requied U...|128.79828704142858|\n",
      "|Trans & Cap Impro...|Traffic Signal Gr...|101.79846062200002|\n",
      "|    Customer Service|           Complaint|  72.8705023031167|\n",
      "|Code Enforcement ...|             Vendors| 66.54809898507796|\n",
      "|Parks and Recreation|Reservation Assis...|       66.03116319|\n",
      "|Code Enforcement ...|   No Address Posted| 59.87564073362598|\n",
      "|Code Enforcement ...|         Curbstoning| 59.80862897760523|\n",
      "|Solid Waste Manag...|Contracted Servic...|    56.72045236025|\n",
      "|Trans & Cap Impro...|Status: On-Going ...| 37.57064670295006|\n",
      "|Code Enforcement ...|Historical Buildi...|31.567148565454545|\n",
      "|Code Enforcement ...|Used Mattress Ins...|30.168053900795922|\n",
      "+--------------------+--------------------+------------------+\n",
      "only showing top 20 rows\n",
      "\n"
     ]
    },
    {
     "name": "stderr",
     "output_type": "stream",
     "text": [
      "\r",
      "                                                                                \r"
     ]
    }
   ],
   "source": [
    "#function to check if days late depend on dept & request type\n",
    "(\n",
    "    df.groupBy('dept_name', 'service_request_type')\n",
    "    .agg(F.mean('num_days_late').alias('avg_days_late'))\n",
    "    .sort('avg_days_late', ascending = False)\n",
    "    .show()\n",
    ")"
   ]
  }
 ],
 "metadata": {
  "kernelspec": {
   "display_name": "Python 3 (ipykernel)",
   "language": "python",
   "name": "python3"
  },
  "language_info": {
   "codemirror_mode": {
    "name": "ipython",
    "version": 3
   },
   "file_extension": ".py",
   "mimetype": "text/x-python",
   "name": "python",
   "nbconvert_exporter": "python",
   "pygments_lexer": "ipython3",
   "version": "3.9.12"
  }
 },
 "nbformat": 4,
 "nbformat_minor": 5
}
